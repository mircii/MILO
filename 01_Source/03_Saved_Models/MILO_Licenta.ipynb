{
  "cells": [
    {
      "cell_type": "markdown",
      "metadata": {
        "id": "view-in-github",
        "colab_type": "text"
      },
      "source": [
        "<a href=\"https://colab.research.google.com/github/mircii/MILO/blob/main/01_Source/03_Saved_Models/MILO_Licenta.ipynb\" target=\"_parent\"><img src=\"https://colab.research.google.com/assets/colab-badge.svg\" alt=\"Open In Colab\"/></a>"
      ]
    },
    {
      "cell_type": "markdown",
      "metadata": {
        "id": "zxbVuw6w-nCf"
      },
      "source": [
        "**<h1>MILO</h1>**"
      ]
    },
    {
      "cell_type": "markdown",
      "metadata": {
        "id": "pKKw4DwK1TlC"
      },
      "source": [
        "#**Release v1.0.0**\n",
        "\n",
        "Content:\n",
        "- Machine Learning Model\n",
        "- Conversational NLP\n",
        "- Trained on https://www.kaggle.com/datasets/kreeshrajani/3k-conversations-dataset-for-chatbot translated in Romanian\n",
        "- Sequential Model summary:\n",
        "\n",
        "![image.png](data:image/png;base64,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)\n",
        "- Accuracy ~69%\n",
        "- Loss ~2.59\n",
        "- Translation script(from CVS eng to JSON ro)"
      ]
    },
    {
      "cell_type": "markdown",
      "metadata": {
        "id": "ykcOYNL72gBT"
      },
      "source": [
        "## Translating to romanian and converting the dataset to .json"
      ]
    },
    {
      "cell_type": "code",
      "execution_count": null,
      "metadata": {
        "colab": {
          "base_uri": "https://localhost:8080/"
        },
        "collapsed": true,
        "id": "6pREixhVyo7r",
        "outputId": "8df3eb41-314b-4277-efff-4ac8a782a8fc"
      },
      "outputs": [
        {
          "name": "stdout",
          "output_type": "stream",
          "text": [
            "Collecting googletrans==4.0.0-rc1\n",
            "  Downloading googletrans-4.0.0rc1.tar.gz (20 kB)\n",
            "  Preparing metadata (setup.py) ... \u001b[?25l\u001b[?25hdone\n",
            "Collecting httpx==0.13.3 (from googletrans==4.0.0-rc1)\n",
            "  Downloading httpx-0.13.3-py3-none-any.whl.metadata (25 kB)\n",
            "Requirement already satisfied: certifi in /usr/local/lib/python3.11/dist-packages (from httpx==0.13.3->googletrans==4.0.0-rc1) (2025.1.31)\n",
            "Collecting hstspreload (from httpx==0.13.3->googletrans==4.0.0-rc1)\n",
            "  Downloading hstspreload-2025.1.1-py3-none-any.whl.metadata (2.1 kB)\n",
            "Requirement already satisfied: sniffio in /usr/local/lib/python3.11/dist-packages (from httpx==0.13.3->googletrans==4.0.0-rc1) (1.3.1)\n",
            "Collecting chardet==3.* (from httpx==0.13.3->googletrans==4.0.0-rc1)\n",
            "  Downloading chardet-3.0.4-py2.py3-none-any.whl.metadata (3.2 kB)\n",
            "Collecting idna==2.* (from httpx==0.13.3->googletrans==4.0.0-rc1)\n",
            "  Downloading idna-2.10-py2.py3-none-any.whl.metadata (9.1 kB)\n",
            "Collecting rfc3986<2,>=1.3 (from httpx==0.13.3->googletrans==4.0.0-rc1)\n",
            "  Downloading rfc3986-1.5.0-py2.py3-none-any.whl.metadata (6.5 kB)\n",
            "Collecting httpcore==0.9.* (from httpx==0.13.3->googletrans==4.0.0-rc1)\n",
            "  Downloading httpcore-0.9.1-py3-none-any.whl.metadata (4.6 kB)\n",
            "Collecting h11<0.10,>=0.8 (from httpcore==0.9.*->httpx==0.13.3->googletrans==4.0.0-rc1)\n",
            "  Downloading h11-0.9.0-py2.py3-none-any.whl.metadata (8.1 kB)\n",
            "Collecting h2==3.* (from httpcore==0.9.*->httpx==0.13.3->googletrans==4.0.0-rc1)\n",
            "  Downloading h2-3.2.0-py2.py3-none-any.whl.metadata (32 kB)\n",
            "Collecting hyperframe<6,>=5.2.0 (from h2==3.*->httpcore==0.9.*->httpx==0.13.3->googletrans==4.0.0-rc1)\n",
            "  Downloading hyperframe-5.2.0-py2.py3-none-any.whl.metadata (7.2 kB)\n",
            "Collecting hpack<4,>=3.0 (from h2==3.*->httpcore==0.9.*->httpx==0.13.3->googletrans==4.0.0-rc1)\n",
            "  Downloading hpack-3.0.0-py2.py3-none-any.whl.metadata (7.0 kB)\n",
            "Downloading httpx-0.13.3-py3-none-any.whl (55 kB)\n",
            "\u001b[2K   \u001b[90m━━━━━━━━━━━━━━━━━━━━━━━━━━━━━━━━━━━━━━━━\u001b[0m \u001b[32m55.1/55.1 kB\u001b[0m \u001b[31m5.0 MB/s\u001b[0m eta \u001b[36m0:00:00\u001b[0m\n",
            "\u001b[?25hDownloading chardet-3.0.4-py2.py3-none-any.whl (133 kB)\n",
            "\u001b[2K   \u001b[90m━━━━━━━━━━━━━━━━━━━━━━━━━━━━━━━━━━━━━━━━\u001b[0m \u001b[32m133.4/133.4 kB\u001b[0m \u001b[31m12.6 MB/s\u001b[0m eta \u001b[36m0:00:00\u001b[0m\n",
            "\u001b[?25hDownloading httpcore-0.9.1-py3-none-any.whl (42 kB)\n",
            "\u001b[2K   \u001b[90m━━━━━━━━━━━━━━━━━━━━━━━━━━━━━━━━━━━━━━━━\u001b[0m \u001b[32m42.6/42.6 kB\u001b[0m \u001b[31m3.2 MB/s\u001b[0m eta \u001b[36m0:00:00\u001b[0m\n",
            "\u001b[?25hDownloading idna-2.10-py2.py3-none-any.whl (58 kB)\n",
            "\u001b[2K   \u001b[90m━━━━━━━━━━━━━━━━━━━━━━━━━━━━━━━━━━━━━━━━\u001b[0m \u001b[32m58.8/58.8 kB\u001b[0m \u001b[31m4.4 MB/s\u001b[0m eta \u001b[36m0:00:00\u001b[0m\n",
            "\u001b[?25hDownloading h2-3.2.0-py2.py3-none-any.whl (65 kB)\n",
            "\u001b[2K   \u001b[90m━━━━━━━━━━━━━━━━━━━━━━━━━━━━━━━━━━━━━━━━\u001b[0m \u001b[32m65.0/65.0 kB\u001b[0m \u001b[31m6.1 MB/s\u001b[0m eta \u001b[36m0:00:00\u001b[0m\n",
            "\u001b[?25hDownloading rfc3986-1.5.0-py2.py3-none-any.whl (31 kB)\n",
            "Downloading hstspreload-2025.1.1-py3-none-any.whl (1.3 MB)\n",
            "\u001b[2K   \u001b[90m━━━━━━━━━━━━━━━━━━━━━━━━━━━━━━━━━━━━━━━━\u001b[0m \u001b[32m1.3/1.3 MB\u001b[0m \u001b[31m56.3 MB/s\u001b[0m eta \u001b[36m0:00:00\u001b[0m\n",
            "\u001b[?25hDownloading h11-0.9.0-py2.py3-none-any.whl (53 kB)\n",
            "\u001b[2K   \u001b[90m━━━━━━━━━━━━━━━━━━━━━━━━━━━━━━━━━━━━━━━━\u001b[0m \u001b[32m53.6/53.6 kB\u001b[0m \u001b[31m4.6 MB/s\u001b[0m eta \u001b[36m0:00:00\u001b[0m\n",
            "\u001b[?25hDownloading hpack-3.0.0-py2.py3-none-any.whl (38 kB)\n",
            "Downloading hyperframe-5.2.0-py2.py3-none-any.whl (12 kB)\n",
            "Building wheels for collected packages: googletrans\n",
            "  Building wheel for googletrans (setup.py) ... \u001b[?25l\u001b[?25hdone\n",
            "  Created wheel for googletrans: filename=googletrans-4.0.0rc1-py3-none-any.whl size=17397 sha256=a74c262fc821d9b686f71b0441f6236d3a5e4ded850c9650905e82323e6d6214\n",
            "  Stored in directory: /root/.cache/pip/wheels/39/17/6f/66a045ea3d168826074691b4b787b8f324d3f646d755443fda\n",
            "Successfully built googletrans\n",
            "Installing collected packages: rfc3986, hyperframe, hpack, h11, chardet, idna, hstspreload, h2, httpcore, httpx, googletrans\n",
            "  Attempting uninstall: hyperframe\n",
            "    Found existing installation: hyperframe 6.1.0\n",
            "    Uninstalling hyperframe-6.1.0:\n",
            "      Successfully uninstalled hyperframe-6.1.0\n",
            "  Attempting uninstall: hpack\n",
            "    Found existing installation: hpack 4.1.0\n",
            "    Uninstalling hpack-4.1.0:\n",
            "      Successfully uninstalled hpack-4.1.0\n",
            "  Attempting uninstall: h11\n",
            "    Found existing installation: h11 0.14.0\n",
            "    Uninstalling h11-0.14.0:\n",
            "      Successfully uninstalled h11-0.14.0\n",
            "  Attempting uninstall: chardet\n",
            "    Found existing installation: chardet 5.2.0\n",
            "    Uninstalling chardet-5.2.0:\n",
            "      Successfully uninstalled chardet-5.2.0\n",
            "  Attempting uninstall: idna\n",
            "    Found existing installation: idna 3.10\n",
            "    Uninstalling idna-3.10:\n",
            "      Successfully uninstalled idna-3.10\n",
            "  Attempting uninstall: h2\n",
            "    Found existing installation: h2 4.2.0\n",
            "    Uninstalling h2-4.2.0:\n",
            "      Successfully uninstalled h2-4.2.0\n",
            "  Attempting uninstall: httpcore\n",
            "    Found existing installation: httpcore 1.0.7\n",
            "    Uninstalling httpcore-1.0.7:\n",
            "      Successfully uninstalled httpcore-1.0.7\n",
            "  Attempting uninstall: httpx\n",
            "    Found existing installation: httpx 0.28.1\n",
            "    Uninstalling httpx-0.28.1:\n",
            "      Successfully uninstalled httpx-0.28.1\n",
            "\u001b[31mERROR: pip's dependency resolver does not currently take into account all the packages that are installed. This behaviour is the source of the following dependency conflicts.\n",
            "langsmith 0.3.13 requires httpx<1,>=0.23.0, but you have httpx 0.13.3 which is incompatible.\n",
            "google-genai 1.4.0 requires httpx<1.0.0dev,>=0.28.1, but you have httpx 0.13.3 which is incompatible.\n",
            "openai 1.61.1 requires httpx<1,>=0.23.0, but you have httpx 0.13.3 which is incompatible.\u001b[0m\u001b[31m\n",
            "\u001b[0mSuccessfully installed chardet-3.0.4 googletrans-4.0.0rc1 h11-0.9.0 h2-3.2.0 hpack-3.0.0 hstspreload-2025.1.1 httpcore-0.9.1 httpx-0.13.3 hyperframe-5.2.0 idna-2.10 rfc3986-1.5.0\n"
          ]
        }
      ],
      "source": [
        "pip install googletrans==4.0.0-rc1"
      ]
    },
    {
      "cell_type": "code",
      "execution_count": null,
      "metadata": {
        "colab": {
          "base_uri": "https://localhost:8080/"
        },
        "id": "dTxfcqUUadHP",
        "outputId": "52aa2391-898b-4246-df58-f9cf8cbab7a4"
      },
      "outputs": [
        {
          "name": "stdout",
          "output_type": "stream",
          "text": [
            "Error during translation: the JSON object must be str, bytes or bytearray, not NoneType\n",
            "Error during translation: the JSON object must be str, bytes or bytearray, not NoneType\n",
            "Error during translation: the JSON object must be str, bytes or bytearray, not NoneType\n",
            "Error during translation: the JSON object must be str, bytes or bytearray, not NoneType\n",
            "Error during translation: The read operation timed out\n",
            "Error during translation: the JSON object must be str, bytes or bytearray, not NoneType\n",
            "Translated conversations have been saved to 'Conversation_romanian.json'\n"
          ]
        }
      ],
      "source": [
        "import pandas as pd\n",
        "from googletrans import Translator\n",
        "import json\n",
        "import time  # To add a delay between requests\n",
        "import random  # To introduce variability in delays\n",
        "\n",
        "# Load the dataset\n",
        "df = pd.read_csv('Conversation.csv')\n",
        "\n",
        "# Initialize the translator\n",
        "translator = Translator()\n",
        "\n",
        "# Function to translate text\n",
        "def translate_text(text, target_language=\"ro\"):\n",
        "    if not text:  # Check if the text is empty or None\n",
        "        return \"\"  # Return empty string if there's no text to translate\n",
        "\n",
        "    try:\n",
        "        translated = translator.translate(text, src='en', dest=target_language)\n",
        "        return translated.text\n",
        "    except Exception as e:\n",
        "        print(f\"Error during translation: {e}\")\n",
        "        return \"\"  # Return empty string in case of error\n",
        "\n",
        "# Create a list to store the translated conversations\n",
        "translated_conversations = []\n",
        "\n",
        "# Loop through each row in the dataframe\n",
        "for index, row in df.iterrows():\n",
        "    # Extracting question and answer\n",
        "    question = row.get('question', '')\n",
        "    answer = row.get('answer', '')\n",
        "\n",
        "    # Translate the question and answer\n",
        "    question_ro = translate_text(question, 'ro')\n",
        "    answer_ro = translate_text(answer, 'ro')\n",
        "\n",
        "    # Add the translated conversation to the list\n",
        "    translated_conversations.append({\n",
        "        \"question_ro\": question_ro,\n",
        "        \"answer_ro\": answer_ro\n",
        "    })\n",
        "\n",
        "\n",
        "# Save the translated conversations to a JSON file\n",
        "with open('Conversation_romanian.json', 'w', encoding='utf-8') as f:\n",
        "    json.dump(translated_conversations, f, ensure_ascii=False, indent=4)\n",
        "\n",
        "print(\"Translated conversations have been saved to 'Conversation_romanian.json'\")\n"
      ]
    },
    {
      "cell_type": "markdown",
      "metadata": {
        "id": "oZAhsQ7X463j"
      },
      "source": [
        "## Preprocessing the data."
      ]
    },
    {
      "cell_type": "code",
      "execution_count": null,
      "metadata": {
        "id": "VHd2dBvr5Ay_"
      },
      "outputs": [],
      "source": [
        "import json\n",
        "import numpy as np\n",
        "import tensorflow as tf\n",
        "from tensorflow.keras.preprocessing.text import Tokenizer\n",
        "from tensorflow.keras.preprocessing.sequence import pad_sequences\n",
        "from sklearn.model_selection import train_test_split\n",
        "\n",
        "# Extracting the questions and answers\n",
        "with open('Conversation_romanian.json', 'r', encoding='utf-8') as f:\n",
        "    data = json.load(f)\n",
        "\n",
        "questions = [item['question_ro'] for item in data]\n",
        "answers = [item['answer_ro'] for item in data]"
      ]
    },
    {
      "cell_type": "code",
      "execution_count": null,
      "metadata": {
        "colab": {
          "base_uri": "https://localhost:8080/"
        },
        "id": "LNsPkn3D9bxN",
        "outputId": "ea64ca60-24c4-4120-b919-18c88ee071a0"
      },
      "outputs": [
        {
          "name": "stdout",
          "output_type": "stream",
          "text": [
            "First 10 questions: ['Bună, ce mai faci?', 'Sunt bine.Ce zici de tine?', 'Sunt destul de bun.Mulțumesc că ai întrebat.', 'nici o problemă.Deci, cum ai fost?', 'Am fost grozav.şi tu?', 'Am fost bun.Sunt la școală chiar acum.', 'La ce școală mergi?', 'Merg la PCC.', 'Îți place acolo?', 'e în regulă.Este un campus cu adevărat mare.']\n",
            "First 10 answers: ['Sunt bine.Ce zici de tine?', 'Sunt destul de bun.Mulțumesc că ai întrebat.', 'nici o problemă.Deci, cum ai fost?', 'Am fost grozav.şi tu?', 'Am fost bun.Sunt la școală chiar acum.', 'La ce școală mergi?', 'Merg la PCC.', 'Îți place acolo?', 'e în regulă.Este un campus cu adevărat mare.', 'Noroc cu școala.']\n"
          ]
        }
      ],
      "source": [
        "# Visualizing the first 10 questions and answers\n",
        "\n",
        "print(\"First 10 questions:\", questions[:10])\n",
        "print(\"First 10 answers:\", answers[:10])"
      ]
    },
    {
      "cell_type": "markdown",
      "metadata": {
        "id": "YYsscxNl6PSo"
      },
      "source": [
        "## Tokenization."
      ]
    },
    {
      "cell_type": "code",
      "execution_count": null,
      "metadata": {
        "id": "HSa4fK8o5z21"
      },
      "outputs": [],
      "source": [
        "tokenizer = Tokenizer(oov_token='<OOV>')\n",
        "\n",
        "# Fit the tokenizer on both questions and answers\n",
        "tokenizer.fit_on_texts(questions + answers)\n",
        "\n",
        "VOCAB_SIZE = len(tokenizer.word_index) + 1  # +1 to include padding/OOV token\n",
        "\n",
        "# Convert text to sequences\n",
        "question_sequences = tokenizer.texts_to_sequences(questions)\n",
        "answer_sequences = tokenizer.texts_to_sequences(answers)\n",
        "\n",
        "word_index = tokenizer.word_index"
      ]
    },
    {
      "cell_type": "code",
      "execution_count": null,
      "metadata": {
        "colab": {
          "base_uri": "https://localhost:8080/"
        },
        "id": "oDoAeRDl8kd4",
        "outputId": "31f7ec42-93a9-4a55-a861-43e32cc4adc6"
      },
      "outputs": [
        {
          "name": "stdout",
          "output_type": "stream",
          "text": [
            "Vocabulary Size: 3598\n",
            "First 10 words in vocabulary: [('<OOV>', 1), ('de', 2), ('nu', 3), ('să', 4), ('o', 5), ('este', 6), ('a', 7), ('ce', 8), ('că', 9), ('am', 10)]\n"
          ]
        }
      ],
      "source": [
        "# Visualizing the vocabulary\n",
        "print(f\"Vocabulary Size: {VOCAB_SIZE}\")\n",
        "print(\"First 10 words in vocabulary:\", list(word_index.items())[:10])"
      ]
    },
    {
      "cell_type": "markdown",
      "metadata": {
        "id": "cypY4LsX8uml"
      },
      "source": [
        "## Padding the sequences."
      ]
    },
    {
      "cell_type": "code",
      "execution_count": null,
      "metadata": {
        "id": "hH3lvXyP8yWo"
      },
      "outputs": [],
      "source": [
        "MAX_sequence_length = max(len(seq) for seq in question_sequences + answer_sequences)\n",
        "\n",
        "question_padded = pad_sequences(question_sequences, maxlen=MAX_sequence_length, padding='post')\n",
        "answer_padded = pad_sequences(answer_sequences, maxlen=MAX_sequence_length, padding='post')"
      ]
    },
    {
      "cell_type": "code",
      "execution_count": null,
      "metadata": {
        "colab": {
          "base_uri": "https://localhost:8080/"
        },
        "id": "AZ9PZdaz9KIl",
        "outputId": "3c9d106d-d5ca-4337-a91a-1850c1162129"
      },
      "outputs": [
        {
          "name": "stdout",
          "output_type": "stream",
          "text": [
            "First padded question sequence: [95  8 21 82  0  0  0  0  0  0  0  0  0  0  0  0  0  0  0  0  0]\n",
            "First padded answer sequence: [ 19  20   8 229   2  67   0   0   0   0   0   0   0   0   0   0   0   0\n",
            "   0   0   0]\n"
          ]
        }
      ],
      "source": [
        "# Visualizing the padding\n",
        "\n",
        "print(\"First padded question sequence:\", question_padded[0])\n",
        "print(\"First padded answer sequence:\", answer_padded[0])"
      ]
    },
    {
      "cell_type": "markdown",
      "metadata": {
        "id": "mcJq76t--G0_"
      },
      "source": [
        "## Training & Testing Sets."
      ]
    },
    {
      "cell_type": "code",
      "execution_count": null,
      "metadata": {
        "id": "zkyS-4rR-Wly"
      },
      "outputs": [],
      "source": [
        "# Using train test spilt in oreder to create the sets\n",
        "q_train, q_test, a_train, a_test = train_test_split(question_padded, answer_padded, test_size=0.2, random_state=42)"
      ]
    },
    {
      "cell_type": "code",
      "execution_count": null,
      "metadata": {
        "colab": {
          "base_uri": "https://localhost:8080/"
        },
        "id": "wm95Ijq3-2-N",
        "outputId": "7599e465-c1ab-48c7-a31d-8eea462f9b51"
      },
      "outputs": [
        {
          "name": "stdout",
          "output_type": "stream",
          "text": [
            "Training questions shape: (2980, 21)\n",
            "Training answers shape: (2980, 21)\n",
            "Testing questions shape: (745, 21)\n",
            "Testing answers shape: (745, 21)\n",
            "Length of training questions: 2980\n",
            "Length of training answers: 2980\n",
            "Length of testing questions: 745\n",
            "Length of testing answers: 745\n"
          ]
        }
      ],
      "source": [
        "# Visualizing the train & test sets shapres and lengths\n",
        "print(\"Training questions shape:\", q_train.shape)\n",
        "print(\"Training answers shape:\", a_train.shape)\n",
        "print(\"Testing questions shape:\", q_test.shape)\n",
        "print(\"Testing answers shape:\", a_test.shape)\n",
        "\n",
        "print(\"Length of training questions:\", len(q_train))\n",
        "print(\"Length of training answers:\", len(a_train))\n",
        "print(\"Length of testing questions:\", len(q_test))\n",
        "print(\"Length of testing answers:\", len(a_test))"
      ]
    },
    {
      "cell_type": "markdown",
      "metadata": {
        "id": "dcCsF2Kk_sBK"
      },
      "source": [
        "## Building the Neural Network"
      ]
    },
    {
      "cell_type": "code",
      "execution_count": null,
      "metadata": {
        "colab": {
          "base_uri": "https://localhost:8080/"
        },
        "id": "VeeKyqSY_K9k",
        "outputId": "b29e8cd5-2672-457f-b04e-9da1b5beb287"
      },
      "outputs": [
        {
          "name": "stdout",
          "output_type": "stream",
          "text": [
            "Epoch 1/10\n",
            "\u001b[1m47/47\u001b[0m \u001b[32m━━━━━━━━━━━━━━━━━━━━\u001b[0m\u001b[37m\u001b[0m \u001b[1m32s\u001b[0m 554ms/step - accuracy: 0.6289 - loss: 3.9717 - val_accuracy: 0.6877 - val_loss: 2.3644\n",
            "Epoch 2/10\n",
            "\u001b[1m47/47\u001b[0m \u001b[32m━━━━━━━━━━━━━━━━━━━━\u001b[0m\u001b[37m\u001b[0m \u001b[1m37s\u001b[0m 480ms/step - accuracy: 0.6913 - loss: 2.2690 - val_accuracy: 0.6913 - val_loss: 2.3545\n",
            "Epoch 3/10\n",
            "\u001b[1m47/47\u001b[0m \u001b[32m━━━━━━━━━━━━━━━━━━━━\u001b[0m\u001b[37m\u001b[0m \u001b[1m21s\u001b[0m 452ms/step - accuracy: 0.6943 - loss: 2.2044 - val_accuracy: 0.6917 - val_loss: 2.4024\n",
            "Epoch 4/10\n",
            "\u001b[1m47/47\u001b[0m \u001b[32m━━━━━━━━━━━━━━━━━━━━\u001b[0m\u001b[37m\u001b[0m \u001b[1m40s\u001b[0m 443ms/step - accuracy: 0.6954 - loss: 2.1312 - val_accuracy: 0.6921 - val_loss: 2.3905\n",
            "Epoch 5/10\n",
            "\u001b[1m47/47\u001b[0m \u001b[32m━━━━━━━━━━━━━━━━━━━━\u001b[0m\u001b[37m\u001b[0m \u001b[1m23s\u001b[0m 499ms/step - accuracy: 0.6949 - loss: 2.1091 - val_accuracy: 0.6904 - val_loss: 2.4131\n",
            "Epoch 6/10\n",
            "\u001b[1m47/47\u001b[0m \u001b[32m━━━━━━━━━━━━━━━━━━━━\u001b[0m\u001b[37m\u001b[0m \u001b[1m21s\u001b[0m 452ms/step - accuracy: 0.6944 - loss: 2.0890 - val_accuracy: 0.6906 - val_loss: 2.4540\n",
            "Epoch 7/10\n",
            "\u001b[1m47/47\u001b[0m \u001b[32m━━━━━━━━━━━━━━━━━━━━\u001b[0m\u001b[37m\u001b[0m \u001b[1m42s\u001b[0m 465ms/step - accuracy: 0.6985 - loss: 2.0379 - val_accuracy: 0.6883 - val_loss: 2.4727\n",
            "Epoch 8/10\n",
            "\u001b[1m47/47\u001b[0m \u001b[32m━━━━━━━━━━━━━━━━━━━━\u001b[0m\u001b[37m\u001b[0m \u001b[1m20s\u001b[0m 431ms/step - accuracy: 0.6984 - loss: 2.0222 - val_accuracy: 0.6920 - val_loss: 2.5244\n",
            "Epoch 9/10\n",
            "\u001b[1m47/47\u001b[0m \u001b[32m━━━━━━━━━━━━━━━━━━━━\u001b[0m\u001b[37m\u001b[0m \u001b[1m22s\u001b[0m 479ms/step - accuracy: 0.6941 - loss: 2.0224 - val_accuracy: 0.6897 - val_loss: 2.5603\n",
            "Epoch 10/10\n",
            "\u001b[1m47/47\u001b[0m \u001b[32m━━━━━━━━━━━━━━━━━━━━\u001b[0m\u001b[37m\u001b[0m \u001b[1m40s\u001b[0m 464ms/step - accuracy: 0.6984 - loss: 1.9805 - val_accuracy: 0.6901 - val_loss: 2.5972\n"
          ]
        },
        {
          "data": {
            "text/plain": [
              "<keras.src.callbacks.history.History at 0x7c6c8a704690>"
            ]
          },
          "execution_count": 9,
          "metadata": {},
          "output_type": "execute_result"
        }
      ],
      "source": [
        "from tensorflow.keras.models import Sequential\n",
        "from tensorflow.keras.layers import Embedding, LSTM, Dense, Dropout\n",
        "from tensorflow.keras.callbacks import EarlyStopping\n",
        "\n",
        "# Defining some Hyperparameters\n",
        "EMBEDDING_DIM = 256\n",
        "GRU_UNITS = 128\n",
        "EPOCHS = 10\n",
        "BATCH_SIZE = 64\n",
        "\n",
        "MILO_01 = tf.keras.Sequential([\n",
        "    tf.keras.layers.Embedding(VOCAB_SIZE, EMBEDDING_DIM),\n",
        "    tf.keras.layers.GRU(GRU_UNITS, return_sequences=True),\n",
        "    tf.keras.layers.GRU(GRU_UNITS, return_sequences=True),\n",
        "    tf.keras.layers.Dense(VOCAB_SIZE)\n",
        "])\n",
        "\n",
        "MILO_01.compile(loss=tf.keras.losses.SparseCategoricalCrossentropy(from_logits=True),\n",
        "                optimizer=tf.keras.optimizers.Adam(learning_rate=0.01),\n",
        "                metrics=['accuracy'])\n",
        "\n",
        "early_stopping = EarlyStopping(monitor='val_loss', min_delta=0.05, patience=1, restore_best_weights=True)\n",
        "\n",
        "MILO_01.fit(q_train, a_train, epochs=EPOCHS, batch_size=BATCH_SIZE, validation_data=(q_test, a_test))"
      ]
    },
    {
      "cell_type": "code",
      "execution_count": null,
      "metadata": {
        "colab": {
          "base_uri": "https://localhost:8080/",
          "height": 284
        },
        "id": "9QAEFfkwBaOp",
        "outputId": "0b741f08-d7d1-492f-8701-94d8eb858ff9"
      },
      "outputs": [
        {
          "data": {
            "text/html": [
              "<pre style=\"white-space:pre;overflow-x:auto;line-height:normal;font-family:Menlo,'DejaVu Sans Mono',consolas,'Courier New',monospace\"><span style=\"font-weight: bold\">Model: \"sequential\"</span>\n",
              "</pre>\n"
            ],
            "text/plain": [
              "\u001b[1mModel: \"sequential\"\u001b[0m\n"
            ]
          },
          "metadata": {},
          "output_type": "display_data"
        },
        {
          "data": {
            "text/html": [
              "<pre style=\"white-space:pre;overflow-x:auto;line-height:normal;font-family:Menlo,'DejaVu Sans Mono',consolas,'Courier New',monospace\">┏━━━━━━━━━━━━━━━━━━━━━━━━━━━━━━━━━━━━━━┳━━━━━━━━━━━━━━━━━━━━━━━━━━━━━┳━━━━━━━━━━━━━━━━━┓\n",
              "┃<span style=\"font-weight: bold\"> Layer (type)                         </span>┃<span style=\"font-weight: bold\"> Output Shape                </span>┃<span style=\"font-weight: bold\">         Param # </span>┃\n",
              "┡━━━━━━━━━━━━━━━━━━━━━━━━━━━━━━━━━━━━━━╇━━━━━━━━━━━━━━━━━━━━━━━━━━━━━╇━━━━━━━━━━━━━━━━━┩\n",
              "│ embedding (<span style=\"color: #0087ff; text-decoration-color: #0087ff\">Embedding</span>)                │ (<span style=\"color: #00d7ff; text-decoration-color: #00d7ff\">None</span>, <span style=\"color: #00af00; text-decoration-color: #00af00\">21</span>, <span style=\"color: #00af00; text-decoration-color: #00af00\">256</span>)             │         <span style=\"color: #00af00; text-decoration-color: #00af00\">921,088</span> │\n",
              "├──────────────────────────────────────┼─────────────────────────────┼─────────────────┤\n",
              "│ gru (<span style=\"color: #0087ff; text-decoration-color: #0087ff\">GRU</span>)                            │ (<span style=\"color: #00d7ff; text-decoration-color: #00d7ff\">None</span>, <span style=\"color: #00af00; text-decoration-color: #00af00\">21</span>, <span style=\"color: #00af00; text-decoration-color: #00af00\">128</span>)             │         <span style=\"color: #00af00; text-decoration-color: #00af00\">148,224</span> │\n",
              "├──────────────────────────────────────┼─────────────────────────────┼─────────────────┤\n",
              "│ gru_1 (<span style=\"color: #0087ff; text-decoration-color: #0087ff\">GRU</span>)                          │ (<span style=\"color: #00d7ff; text-decoration-color: #00d7ff\">None</span>, <span style=\"color: #00af00; text-decoration-color: #00af00\">21</span>, <span style=\"color: #00af00; text-decoration-color: #00af00\">128</span>)             │          <span style=\"color: #00af00; text-decoration-color: #00af00\">99,072</span> │\n",
              "├──────────────────────────────────────┼─────────────────────────────┼─────────────────┤\n",
              "│ dense (<span style=\"color: #0087ff; text-decoration-color: #0087ff\">Dense</span>)                        │ (<span style=\"color: #00d7ff; text-decoration-color: #00d7ff\">None</span>, <span style=\"color: #00af00; text-decoration-color: #00af00\">21</span>, <span style=\"color: #00af00; text-decoration-color: #00af00\">3598</span>)            │         <span style=\"color: #00af00; text-decoration-color: #00af00\">464,142</span> │\n",
              "└──────────────────────────────────────┴─────────────────────────────┴─────────────────┘\n",
              "</pre>\n"
            ],
            "text/plain": [
              "┏━━━━━━━━━━━━━━━━━━━━━━━━━━━━━━━━━━━━━━┳━━━━━━━━━━━━━━━━━━━━━━━━━━━━━┳━━━━━━━━━━━━━━━━━┓\n",
              "┃\u001b[1m \u001b[0m\u001b[1mLayer (type)                        \u001b[0m\u001b[1m \u001b[0m┃\u001b[1m \u001b[0m\u001b[1mOutput Shape               \u001b[0m\u001b[1m \u001b[0m┃\u001b[1m \u001b[0m\u001b[1m        Param #\u001b[0m\u001b[1m \u001b[0m┃\n",
              "┡━━━━━━━━━━━━━━━━━━━━━━━━━━━━━━━━━━━━━━╇━━━━━━━━━━━━━━━━━━━━━━━━━━━━━╇━━━━━━━━━━━━━━━━━┩\n",
              "│ embedding (\u001b[38;5;33mEmbedding\u001b[0m)                │ (\u001b[38;5;45mNone\u001b[0m, \u001b[38;5;34m21\u001b[0m, \u001b[38;5;34m256\u001b[0m)             │         \u001b[38;5;34m921,088\u001b[0m │\n",
              "├──────────────────────────────────────┼─────────────────────────────┼─────────────────┤\n",
              "│ gru (\u001b[38;5;33mGRU\u001b[0m)                            │ (\u001b[38;5;45mNone\u001b[0m, \u001b[38;5;34m21\u001b[0m, \u001b[38;5;34m128\u001b[0m)             │         \u001b[38;5;34m148,224\u001b[0m │\n",
              "├──────────────────────────────────────┼─────────────────────────────┼─────────────────┤\n",
              "│ gru_1 (\u001b[38;5;33mGRU\u001b[0m)                          │ (\u001b[38;5;45mNone\u001b[0m, \u001b[38;5;34m21\u001b[0m, \u001b[38;5;34m128\u001b[0m)             │          \u001b[38;5;34m99,072\u001b[0m │\n",
              "├──────────────────────────────────────┼─────────────────────────────┼─────────────────┤\n",
              "│ dense (\u001b[38;5;33mDense\u001b[0m)                        │ (\u001b[38;5;45mNone\u001b[0m, \u001b[38;5;34m21\u001b[0m, \u001b[38;5;34m3598\u001b[0m)            │         \u001b[38;5;34m464,142\u001b[0m │\n",
              "└──────────────────────────────────────┴─────────────────────────────┴─────────────────┘\n"
            ]
          },
          "metadata": {},
          "output_type": "display_data"
        },
        {
          "data": {
            "text/html": [
              "<pre style=\"white-space:pre;overflow-x:auto;line-height:normal;font-family:Menlo,'DejaVu Sans Mono',consolas,'Courier New',monospace\"><span style=\"font-weight: bold\"> Total params: </span><span style=\"color: #00af00; text-decoration-color: #00af00\">4,897,580</span> (18.68 MB)\n",
              "</pre>\n"
            ],
            "text/plain": [
              "\u001b[1m Total params: \u001b[0m\u001b[38;5;34m4,897,580\u001b[0m (18.68 MB)\n"
            ]
          },
          "metadata": {},
          "output_type": "display_data"
        },
        {
          "data": {
            "text/html": [
              "<pre style=\"white-space:pre;overflow-x:auto;line-height:normal;font-family:Menlo,'DejaVu Sans Mono',consolas,'Courier New',monospace\"><span style=\"font-weight: bold\"> Trainable params: </span><span style=\"color: #00af00; text-decoration-color: #00af00\">1,632,526</span> (6.23 MB)\n",
              "</pre>\n"
            ],
            "text/plain": [
              "\u001b[1m Trainable params: \u001b[0m\u001b[38;5;34m1,632,526\u001b[0m (6.23 MB)\n"
            ]
          },
          "metadata": {},
          "output_type": "display_data"
        },
        {
          "data": {
            "text/html": [
              "<pre style=\"white-space:pre;overflow-x:auto;line-height:normal;font-family:Menlo,'DejaVu Sans Mono',consolas,'Courier New',monospace\"><span style=\"font-weight: bold\"> Non-trainable params: </span><span style=\"color: #00af00; text-decoration-color: #00af00\">0</span> (0.00 B)\n",
              "</pre>\n"
            ],
            "text/plain": [
              "\u001b[1m Non-trainable params: \u001b[0m\u001b[38;5;34m0\u001b[0m (0.00 B)\n"
            ]
          },
          "metadata": {},
          "output_type": "display_data"
        },
        {
          "data": {
            "text/html": [
              "<pre style=\"white-space:pre;overflow-x:auto;line-height:normal;font-family:Menlo,'DejaVu Sans Mono',consolas,'Courier New',monospace\"><span style=\"font-weight: bold\"> Optimizer params: </span><span style=\"color: #00af00; text-decoration-color: #00af00\">3,265,054</span> (12.46 MB)\n",
              "</pre>\n"
            ],
            "text/plain": [
              "\u001b[1m Optimizer params: \u001b[0m\u001b[38;5;34m3,265,054\u001b[0m (12.46 MB)\n"
            ]
          },
          "metadata": {},
          "output_type": "display_data"
        }
      ],
      "source": [
        "MILO_01.summary()"
      ]
    },
    {
      "cell_type": "markdown",
      "metadata": {
        "id": "NP35-xY6exMg"
      },
      "source": [
        "## Saving the model"
      ]
    },
    {
      "cell_type": "code",
      "execution_count": null,
      "metadata": {
        "id": "pR-JG5jL5tPL"
      },
      "outputs": [],
      "source": [
        "MILO_01.save('MILO_01.keras')"
      ]
    },
    {
      "cell_type": "code",
      "execution_count": null,
      "metadata": {
        "colab": {
          "base_uri": "https://localhost:8080/",
          "height": 17
        },
        "id": "Phc81ZXS5vOQ",
        "outputId": "eb948350-71d8-4ecb-c993-537fd7457275"
      },
      "outputs": [
        {
          "data": {
            "application/javascript": [
              "\n",
              "    async function download(id, filename, size) {\n",
              "      if (!google.colab.kernel.accessAllowed) {\n",
              "        return;\n",
              "      }\n",
              "      const div = document.createElement('div');\n",
              "      const label = document.createElement('label');\n",
              "      label.textContent = `Downloading \"${filename}\": `;\n",
              "      div.appendChild(label);\n",
              "      const progress = document.createElement('progress');\n",
              "      progress.max = size;\n",
              "      div.appendChild(progress);\n",
              "      document.body.appendChild(div);\n",
              "\n",
              "      const buffers = [];\n",
              "      let downloaded = 0;\n",
              "\n",
              "      const channel = await google.colab.kernel.comms.open(id);\n",
              "      // Send a message to notify the kernel that we're ready.\n",
              "      channel.send({})\n",
              "\n",
              "      for await (const message of channel.messages) {\n",
              "        // Send a message to notify the kernel that we're ready.\n",
              "        channel.send({})\n",
              "        if (message.buffers) {\n",
              "          for (const buffer of message.buffers) {\n",
              "            buffers.push(buffer);\n",
              "            downloaded += buffer.byteLength;\n",
              "            progress.value = downloaded;\n",
              "          }\n",
              "        }\n",
              "      }\n",
              "      const blob = new Blob(buffers, {type: 'application/binary'});\n",
              "      const a = document.createElement('a');\n",
              "      a.href = window.URL.createObjectURL(blob);\n",
              "      a.download = filename;\n",
              "      div.appendChild(a);\n",
              "      a.click();\n",
              "      div.remove();\n",
              "    }\n",
              "  "
            ],
            "text/plain": [
              "<IPython.core.display.Javascript object>"
            ]
          },
          "metadata": {},
          "output_type": "display_data"
        },
        {
          "data": {
            "application/javascript": [
              "download(\"download_fc088e11-6fa3-479a-882e-32c138465019\", \"MILO_01.h5\", 19632720)"
            ],
            "text/plain": [
              "<IPython.core.display.Javascript object>"
            ]
          },
          "metadata": {},
          "output_type": "display_data"
        }
      ],
      "source": [
        "# Download the saved model\n",
        "from google.colab import files\n",
        "files.download('MILO_01.h5')"
      ]
    },
    {
      "cell_type": "markdown",
      "metadata": {
        "id": "P-5jKiGGKqXf"
      },
      "source": [
        "## Making predictions"
      ]
    },
    {
      "cell_type": "code",
      "execution_count": null,
      "metadata": {
        "colab": {
          "base_uri": "https://localhost:8080/",
          "height": 375
        },
        "id": "_F0EecoQKtgY",
        "outputId": "daecf442-ef61-41d6-9d37-a515259c626b"
      },
      "outputs": [
        {
          "ename": "KeyboardInterrupt",
          "evalue": "Interrupted by user",
          "output_type": "error",
          "traceback": [
            "\u001b[0;31m---------------------------------------------------------------------------\u001b[0m",
            "\u001b[0;31mKeyboardInterrupt\u001b[0m                         Traceback (most recent call last)",
            "\u001b[0;32m<ipython-input-11-3536ec4e7973>\u001b[0m in \u001b[0;36m<cell line: 0>\u001b[0;34m()\u001b[0m\n\u001b[1;32m     12\u001b[0m \u001b[0;34m\u001b[0m\u001b[0m\n\u001b[1;32m     13\u001b[0m \u001b[0;32mwhile\u001b[0m \u001b[0;32mTrue\u001b[0m\u001b[0;34m:\u001b[0m\u001b[0;34m\u001b[0m\u001b[0;34m\u001b[0m\u001b[0m\n\u001b[0;32m---> 14\u001b[0;31m     \u001b[0muser_input\u001b[0m \u001b[0;34m=\u001b[0m \u001b[0minput\u001b[0m\u001b[0;34m(\u001b[0m\u001b[0;34m\"You: \"\u001b[0m\u001b[0;34m)\u001b[0m\u001b[0;34m\u001b[0m\u001b[0;34m\u001b[0m\u001b[0m\n\u001b[0m\u001b[1;32m     15\u001b[0m     \u001b[0;32mif\u001b[0m \u001b[0muser_input\u001b[0m\u001b[0;34m.\u001b[0m\u001b[0mlower\u001b[0m\u001b[0;34m(\u001b[0m\u001b[0;34m)\u001b[0m \u001b[0;34m==\u001b[0m \u001b[0;34m'exit'\u001b[0m\u001b[0;34m:\u001b[0m\u001b[0;34m\u001b[0m\u001b[0;34m\u001b[0m\u001b[0m\n\u001b[1;32m     16\u001b[0m         \u001b[0;32mbreak\u001b[0m\u001b[0;34m\u001b[0m\u001b[0;34m\u001b[0m\u001b[0m\n",
            "\u001b[0;32m/usr/local/lib/python3.11/dist-packages/ipykernel/kernelbase.py\u001b[0m in \u001b[0;36mraw_input\u001b[0;34m(self, prompt)\u001b[0m\n\u001b[1;32m   1175\u001b[0m                 \u001b[0;34m\"raw_input was called, but this frontend does not support input requests.\"\u001b[0m\u001b[0;34m\u001b[0m\u001b[0;34m\u001b[0m\u001b[0m\n\u001b[1;32m   1176\u001b[0m             )\n\u001b[0;32m-> 1177\u001b[0;31m         return self._input_request(\n\u001b[0m\u001b[1;32m   1178\u001b[0m             \u001b[0mstr\u001b[0m\u001b[0;34m(\u001b[0m\u001b[0mprompt\u001b[0m\u001b[0;34m)\u001b[0m\u001b[0;34m,\u001b[0m\u001b[0;34m\u001b[0m\u001b[0;34m\u001b[0m\u001b[0m\n\u001b[1;32m   1179\u001b[0m             \u001b[0mself\u001b[0m\u001b[0;34m.\u001b[0m\u001b[0m_parent_ident\u001b[0m\u001b[0;34m[\u001b[0m\u001b[0;34m\"shell\"\u001b[0m\u001b[0;34m]\u001b[0m\u001b[0;34m,\u001b[0m\u001b[0;34m\u001b[0m\u001b[0;34m\u001b[0m\u001b[0m\n",
            "\u001b[0;32m/usr/local/lib/python3.11/dist-packages/ipykernel/kernelbase.py\u001b[0m in \u001b[0;36m_input_request\u001b[0;34m(self, prompt, ident, parent, password)\u001b[0m\n\u001b[1;32m   1217\u001b[0m             \u001b[0;32mexcept\u001b[0m \u001b[0mKeyboardInterrupt\u001b[0m\u001b[0;34m:\u001b[0m\u001b[0;34m\u001b[0m\u001b[0;34m\u001b[0m\u001b[0m\n\u001b[1;32m   1218\u001b[0m                 \u001b[0;31m# re-raise KeyboardInterrupt, to truncate traceback\u001b[0m\u001b[0;34m\u001b[0m\u001b[0;34m\u001b[0m\u001b[0m\n\u001b[0;32m-> 1219\u001b[0;31m                 \u001b[0;32mraise\u001b[0m \u001b[0mKeyboardInterrupt\u001b[0m\u001b[0;34m(\u001b[0m\u001b[0;34m\"Interrupted by user\"\u001b[0m\u001b[0;34m)\u001b[0m \u001b[0;32mfrom\u001b[0m \u001b[0;32mNone\u001b[0m\u001b[0;34m\u001b[0m\u001b[0;34m\u001b[0m\u001b[0m\n\u001b[0m\u001b[1;32m   1220\u001b[0m             \u001b[0;32mexcept\u001b[0m \u001b[0mException\u001b[0m\u001b[0;34m:\u001b[0m\u001b[0;34m\u001b[0m\u001b[0;34m\u001b[0m\u001b[0m\n\u001b[1;32m   1221\u001b[0m                 \u001b[0mself\u001b[0m\u001b[0;34m.\u001b[0m\u001b[0mlog\u001b[0m\u001b[0;34m.\u001b[0m\u001b[0mwarning\u001b[0m\u001b[0;34m(\u001b[0m\u001b[0;34m\"Invalid Message:\"\u001b[0m\u001b[0;34m,\u001b[0m \u001b[0mexc_info\u001b[0m\u001b[0;34m=\u001b[0m\u001b[0;32mTrue\u001b[0m\u001b[0;34m)\u001b[0m\u001b[0;34m\u001b[0m\u001b[0;34m\u001b[0m\u001b[0m\n",
            "\u001b[0;31mKeyboardInterrupt\u001b[0m: Interrupted by user"
          ]
        }
      ],
      "source": [
        "def chatbot_response(user_input):\n",
        "  input_sequence = tokenizer.texts_to_sequences([user_input])\n",
        "  padded_sequence = pad_sequences(input_sequence, maxlen=MAX_sequence_length, padding='post')\n",
        "  predicted_sequence = MILO_01.predict(padded_sequence)\n",
        "  response_text = decode_response(predicted_sequence)\n",
        "  return response_text\n",
        "\n",
        "def decode_response(predicted_sequence):\n",
        "  predicted_indices = np.argmax(predicted_sequence, axis=-1)\n",
        "  response_words = [tokenizer.index_word.get(idx, '') for idx in predicted_indices[0]]\n",
        "  return ' '.join(response_words)\n",
        "\n",
        "while True:\n",
        "    user_input = input(\"You: \")\n",
        "    if user_input.lower() == 'exit':\n",
        "        break\n",
        "    response = chatbot_response(user_input)\n",
        "    print(\"MILO_01:\", response)\n"
      ]
    },
    {
      "cell_type": "markdown",
      "metadata": {
        "id": "aHCWjLBh_odZ"
      },
      "source": [
        "# Release v1.1.0\n",
        "\n",
        "Content:\n",
        "\n",
        "- Trained on conversation_intents_ro.json which is generated using GPT-4o mini and has an intent based structure for better training\n",
        "- Sequential model summary:\n",
        "- Accuracy\n",
        "- Loss"
      ]
    },
    {
      "cell_type": "markdown",
      "metadata": {
        "id": "THK6hX8uCEJZ"
      },
      "source": [
        "## Preporcesing the data"
      ]
    },
    {
      "cell_type": "code",
      "execution_count": 4,
      "metadata": {
        "id": "mtDoFIK8CGOa"
      },
      "outputs": [],
      "source": [
        "import random\n",
        "import json\n",
        "import numpy as np\n",
        "import tensorflow as tf\n",
        "from tensorflow.keras.preprocessing.text import Tokenizer\n",
        "from tensorflow.keras.preprocessing.sequence import pad_sequences\n",
        "from sklearn.model_selection import train_test_split\n",
        "from ast import pattern\n",
        "\n",
        "# Extracting the questions and answers\n",
        "with open('conversation_intents_ro.json', 'r', encoding='utf-8') as f:\n",
        "    data = json.load(f)\n",
        "\n",
        "patterns = []\n",
        "responses = []\n",
        "tags = []\n",
        "\n",
        "for intent in data['intents']:\n",
        "    for pattern in intent['patterns']:\n",
        "        patterns.append(pattern)\n",
        "        responses.append(random.choice(intent['responses']))\n",
        "        tags.append(intent['tag'])"
      ]
    },
    {
      "cell_type": "code",
      "execution_count": null,
      "metadata": {
        "colab": {
          "base_uri": "https://localhost:8080/"
        },
        "id": "7rKXWk6j_v48",
        "outputId": "bbdc6f63-d82b-4b0e-f31b-66815b26a4c8"
      },
      "outputs": [
        {
          "name": "stdout",
          "output_type": "stream",
          "text": [
            "First 5 patterns: ['Salut', 'Bună', 'Hei', 'Bună dimineața', 'Bună seara']\n",
            "First 5 responses: ['Salut! Cum îți pot fi de ajutor?', 'Mă bucur că te văd! Ce pot face pentru tine?', 'Bună! Cum te pot ajuta?', 'Bună! Cum te pot ajuta?', 'Salut! Cu ce te pot ajuta?']\n",
            "First 5 tags: ['greeting', 'greeting', 'greeting', 'greeting', 'greeting']\n"
          ]
        }
      ],
      "source": [
        "# Visualizing the first 10 questions and answers\n",
        "print(\"First 5 patterns:\", patterns[:5])\n",
        "print(\"First 5 responses:\", responses[:5])\n",
        "print(\"First 5 tags:\", tags[:5])"
      ]
    },
    {
      "cell_type": "markdown",
      "metadata": {
        "id": "uY8BM5ixDebm"
      },
      "source": [
        "## Tokenization"
      ]
    },
    {
      "cell_type": "code",
      "execution_count": 5,
      "metadata": {
        "id": "I7llOqiSDfdL"
      },
      "outputs": [],
      "source": [
        "from sklearn.preprocessing import LabelEncoder\n",
        "VOCAB_SIZE = 5000\n",
        "MAX_sequence_length = 20\n",
        "\n",
        "tokenizer = Tokenizer(num_words = VOCAB_SIZE, oov_token = \"<OOV>\")\n",
        "\n",
        "# Fit the tokenizer on patterns and responses\n",
        "tokenizer.fit_on_texts(patterns + responses)\n",
        "\n",
        "# Creating features and labels while converting to sequences\n",
        "X = tokenizer.texts_to_sequences(patterns)\n",
        "X = pad_sequences(X, maxlen=MAX_sequence_length, padding='post', truncating='post')\n",
        "\n",
        "y = tokenizer.texts_to_sequences(responses)\n",
        "y = pad_sequences(y, maxlen=MAX_sequence_length, padding='post', truncating='post')\n",
        "\n",
        "# Convert the tags to integers\n",
        "label_encoder = LabelEncoder()\n",
        "y_tags = label_encoder.fit_transform(tags)"
      ]
    },
    {
      "cell_type": "code",
      "execution_count": null,
      "metadata": {
        "colab": {
          "base_uri": "https://localhost:8080/"
        },
        "id": "Sz3sgY4bDklG",
        "outputId": "5efe42c6-386b-4637-f293-edd4938a482c"
      },
      "outputs": [
        {
          "name": "stdout",
          "output_type": "stream",
          "text": [
            "Example pattern tokenized: [11  0  0  0  0  0  0  0  0  0  0  0  0  0  0  0  0  0  0  0]\n",
            "Encoded tag for the first pattern: 3\n",
            "Example response tokenized: [11  4 26  7 64  8 43  0  0  0  0  0  0  0  0  0  0  0  0  0]\n"
          ]
        }
      ],
      "source": [
        "# Print out some tokenized data for verification\n",
        "print(f\"Example pattern tokenized: {X[0]}\")\n",
        "print(f\"Encoded tag for the first pattern: {y_tags[0]}\")\n",
        "print(f\"Example response tokenized: {y[0]}\")"
      ]
    },
    {
      "cell_type": "code",
      "execution_count": 6,
      "metadata": {
        "colab": {
          "base_uri": "https://localhost:8080/"
        },
        "id": "DbgiGI0U075b",
        "outputId": "f5012cee-aecc-4aaf-af97-9157f167a8f4"
      },
      "outputs": [
        {
          "output_type": "stream",
          "name": "stdout",
          "text": [
            "Vocabulary Size: 5000\n",
            "First 10 words in vocabulary: [('<OOV>', 1), ('ce', 2), ('să', 3), ('cum', 4), ('te', 5), ('de', 6), ('pot', 7), ('bună', 8), ('ai', 9), ('o', 10)]\n",
            "Tags and tag encodings: {np.str_('advice'): np.int64(0), np.str_('career_advice'): np.int64(1), np.str_('goodbye'): np.int64(2), np.str_('greeting'): np.int64(3), np.str_('help'): np.int64(4), np.str_('small_talk'): np.int64(5)}\n"
          ]
        }
      ],
      "source": [
        "word_index = tokenizer.word_index\n",
        "\n",
        "tag_index = dict(zip(label_encoder.classes_, label_encoder.transform(label_encoder.classes_)))\n",
        "\n",
        "print(f\"Vocabulary Size: {VOCAB_SIZE}\")\n",
        "print(\"First 10 words in vocabulary:\", list(word_index.items())[:10])\n",
        "\n",
        "print(\"Tags and tag encodings:\", tag_index)"
      ]
    },
    {
      "cell_type": "markdown",
      "metadata": {
        "id": "WaDbyvfkEGJW"
      },
      "source": [
        "## Training & Testing Sets."
      ]
    },
    {
      "cell_type": "code",
      "execution_count": 7,
      "metadata": {
        "colab": {
          "base_uri": "https://localhost:8080/"
        },
        "id": "xip8vaDxECBu",
        "outputId": "0d0bc0d7-a956-4fed-93a1-2a7f15a3d16c"
      },
      "outputs": [
        {
          "output_type": "stream",
          "name": "stdout",
          "text": [
            "Training patterns shape: (37, 20)\n",
            "Training responses shape: (37, 20)\n",
            "Training tags shape: (37,)\n"
          ]
        }
      ],
      "source": [
        "from sklearn.model_selection import train_test_split\n",
        "\n",
        "# Split the data into training (80%) and testing (20%)\n",
        "X_train, X_test, y_train, y_test = train_test_split(X, y, test_size=0.2, random_state=42)\n",
        "\n",
        "# If using intent classification\n",
        "y_train_tags, y_test_tags = train_test_split(y_tags, test_size=0.2, random_state=42)\n",
        "\n",
        "print(f\"Training patterns shape: {X_train.shape}\")\n",
        "print(f\"Training responses shape: {y_train.shape}\")\n",
        "print(f\"Training tags shape: {y_train_tags.shape}\")\n"
      ]
    },
    {
      "cell_type": "markdown",
      "metadata": {
        "id": "Sle8VJtSEhWS"
      },
      "source": [
        "## Building the model MILO_02"
      ]
    },
    {
      "cell_type": "code",
      "execution_count": 8,
      "metadata": {
        "colab": {
          "base_uri": "https://localhost:8080/",
          "height": 417
        },
        "id": "sJIAxHpTElzr",
        "outputId": "05d25a78-af19-4a4a-e584-3fb46a65504c"
      },
      "outputs": [
        {
          "output_type": "display_data",
          "data": {
            "text/plain": [
              "\u001b[1mModel: \"functional\"\u001b[0m\n"
            ],
            "text/html": [
              "<pre style=\"white-space:pre;overflow-x:auto;line-height:normal;font-family:Menlo,'DejaVu Sans Mono',consolas,'Courier New',monospace\"><span style=\"font-weight: bold\">Model: \"functional\"</span>\n",
              "</pre>\n"
            ]
          },
          "metadata": {}
        },
        {
          "output_type": "display_data",
          "data": {
            "text/plain": [
              "┏━━━━━━━━━━━━━━━━━━━━━━━━━━━┳━━━━━━━━━━━━━━━━━━━━━━━━┳━━━━━━━━━━━━━━━━┳━━━━━━━━━━━━━━━━━━━━━━━━┓\n",
              "┃\u001b[1m \u001b[0m\u001b[1mLayer (type)             \u001b[0m\u001b[1m \u001b[0m┃\u001b[1m \u001b[0m\u001b[1mOutput Shape          \u001b[0m\u001b[1m \u001b[0m┃\u001b[1m \u001b[0m\u001b[1m       Param #\u001b[0m\u001b[1m \u001b[0m┃\u001b[1m \u001b[0m\u001b[1mConnected to          \u001b[0m\u001b[1m \u001b[0m┃\n",
              "┡━━━━━━━━━━━━━━━━━━━━━━━━━━━╇━━━━━━━━━━━━━━━━━━━━━━━━╇━━━━━━━━━━━━━━━━╇━━━━━━━━━━━━━━━━━━━━━━━━┩\n",
              "│ input_layer_1             │ (\u001b[38;5;45mNone\u001b[0m, \u001b[38;5;45mNone\u001b[0m)           │              \u001b[38;5;34m0\u001b[0m │ -                      │\n",
              "│ (\u001b[38;5;33mInputLayer\u001b[0m)              │                        │                │                        │\n",
              "├───────────────────────────┼────────────────────────┼────────────────┼────────────────────────┤\n",
              "│ input_layer (\u001b[38;5;33mInputLayer\u001b[0m)  │ (\u001b[38;5;45mNone\u001b[0m, \u001b[38;5;45mNone\u001b[0m)           │              \u001b[38;5;34m0\u001b[0m │ -                      │\n",
              "├───────────────────────────┼────────────────────────┼────────────────┼────────────────────────┤\n",
              "│ embedding (\u001b[38;5;33mEmbedding\u001b[0m)     │ (\u001b[38;5;45mNone\u001b[0m, \u001b[38;5;45mNone\u001b[0m, \u001b[38;5;34m32\u001b[0m)       │        \u001b[38;5;34m160,000\u001b[0m │ input_layer[\u001b[38;5;34m0\u001b[0m][\u001b[38;5;34m0\u001b[0m],     │\n",
              "│                           │                        │                │ input_layer_1[\u001b[38;5;34m0\u001b[0m][\u001b[38;5;34m0\u001b[0m]    │\n",
              "├───────────────────────────┼────────────────────────┼────────────────┼────────────────────────┤\n",
              "│ lstm (\u001b[38;5;33mLSTM\u001b[0m)               │ [(\u001b[38;5;45mNone\u001b[0m, \u001b[38;5;34m32\u001b[0m), (\u001b[38;5;45mNone\u001b[0m,    │          \u001b[38;5;34m8,320\u001b[0m │ embedding[\u001b[38;5;34m0\u001b[0m][\u001b[38;5;34m0\u001b[0m]        │\n",
              "│                           │ \u001b[38;5;34m32\u001b[0m), (\u001b[38;5;45mNone\u001b[0m, \u001b[38;5;34m32\u001b[0m)]       │                │                        │\n",
              "├───────────────────────────┼────────────────────────┼────────────────┼────────────────────────┤\n",
              "│ lstm_1 (\u001b[38;5;33mLSTM\u001b[0m)             │ [(\u001b[38;5;45mNone\u001b[0m, \u001b[38;5;45mNone\u001b[0m, \u001b[38;5;34m32\u001b[0m),     │          \u001b[38;5;34m8,320\u001b[0m │ embedding[\u001b[38;5;34m1\u001b[0m][\u001b[38;5;34m0\u001b[0m],       │\n",
              "│                           │ (\u001b[38;5;45mNone\u001b[0m, \u001b[38;5;34m32\u001b[0m), (\u001b[38;5;45mNone\u001b[0m,     │                │ lstm[\u001b[38;5;34m0\u001b[0m][\u001b[38;5;34m1\u001b[0m], lstm[\u001b[38;5;34m0\u001b[0m][\u001b[38;5;34m2\u001b[0m] │\n",
              "│                           │ \u001b[38;5;34m32\u001b[0m)]                   │                │                        │\n",
              "├───────────────────────────┼────────────────────────┼────────────────┼────────────────────────┤\n",
              "│ dense (\u001b[38;5;33mDense\u001b[0m)             │ (\u001b[38;5;45mNone\u001b[0m, \u001b[38;5;45mNone\u001b[0m, \u001b[38;5;34m5000\u001b[0m)     │        \u001b[38;5;34m165,000\u001b[0m │ lstm_1[\u001b[38;5;34m0\u001b[0m][\u001b[38;5;34m0\u001b[0m]           │\n",
              "└───────────────────────────┴────────────────────────┴────────────────┴────────────────────────┘\n"
            ],
            "text/html": [
              "<pre style=\"white-space:pre;overflow-x:auto;line-height:normal;font-family:Menlo,'DejaVu Sans Mono',consolas,'Courier New',monospace\">┏━━━━━━━━━━━━━━━━━━━━━━━━━━━┳━━━━━━━━━━━━━━━━━━━━━━━━┳━━━━━━━━━━━━━━━━┳━━━━━━━━━━━━━━━━━━━━━━━━┓\n",
              "┃<span style=\"font-weight: bold\"> Layer (type)              </span>┃<span style=\"font-weight: bold\"> Output Shape           </span>┃<span style=\"font-weight: bold\">        Param # </span>┃<span style=\"font-weight: bold\"> Connected to           </span>┃\n",
              "┡━━━━━━━━━━━━━━━━━━━━━━━━━━━╇━━━━━━━━━━━━━━━━━━━━━━━━╇━━━━━━━━━━━━━━━━╇━━━━━━━━━━━━━━━━━━━━━━━━┩\n",
              "│ input_layer_1             │ (<span style=\"color: #00d7ff; text-decoration-color: #00d7ff\">None</span>, <span style=\"color: #00d7ff; text-decoration-color: #00d7ff\">None</span>)           │              <span style=\"color: #00af00; text-decoration-color: #00af00\">0</span> │ -                      │\n",
              "│ (<span style=\"color: #0087ff; text-decoration-color: #0087ff\">InputLayer</span>)              │                        │                │                        │\n",
              "├───────────────────────────┼────────────────────────┼────────────────┼────────────────────────┤\n",
              "│ input_layer (<span style=\"color: #0087ff; text-decoration-color: #0087ff\">InputLayer</span>)  │ (<span style=\"color: #00d7ff; text-decoration-color: #00d7ff\">None</span>, <span style=\"color: #00d7ff; text-decoration-color: #00d7ff\">None</span>)           │              <span style=\"color: #00af00; text-decoration-color: #00af00\">0</span> │ -                      │\n",
              "├───────────────────────────┼────────────────────────┼────────────────┼────────────────────────┤\n",
              "│ embedding (<span style=\"color: #0087ff; text-decoration-color: #0087ff\">Embedding</span>)     │ (<span style=\"color: #00d7ff; text-decoration-color: #00d7ff\">None</span>, <span style=\"color: #00d7ff; text-decoration-color: #00d7ff\">None</span>, <span style=\"color: #00af00; text-decoration-color: #00af00\">32</span>)       │        <span style=\"color: #00af00; text-decoration-color: #00af00\">160,000</span> │ input_layer[<span style=\"color: #00af00; text-decoration-color: #00af00\">0</span>][<span style=\"color: #00af00; text-decoration-color: #00af00\">0</span>],     │\n",
              "│                           │                        │                │ input_layer_1[<span style=\"color: #00af00; text-decoration-color: #00af00\">0</span>][<span style=\"color: #00af00; text-decoration-color: #00af00\">0</span>]    │\n",
              "├───────────────────────────┼────────────────────────┼────────────────┼────────────────────────┤\n",
              "│ lstm (<span style=\"color: #0087ff; text-decoration-color: #0087ff\">LSTM</span>)               │ [(<span style=\"color: #00d7ff; text-decoration-color: #00d7ff\">None</span>, <span style=\"color: #00af00; text-decoration-color: #00af00\">32</span>), (<span style=\"color: #00d7ff; text-decoration-color: #00d7ff\">None</span>,    │          <span style=\"color: #00af00; text-decoration-color: #00af00\">8,320</span> │ embedding[<span style=\"color: #00af00; text-decoration-color: #00af00\">0</span>][<span style=\"color: #00af00; text-decoration-color: #00af00\">0</span>]        │\n",
              "│                           │ <span style=\"color: #00af00; text-decoration-color: #00af00\">32</span>), (<span style=\"color: #00d7ff; text-decoration-color: #00d7ff\">None</span>, <span style=\"color: #00af00; text-decoration-color: #00af00\">32</span>)]       │                │                        │\n",
              "├───────────────────────────┼────────────────────────┼────────────────┼────────────────────────┤\n",
              "│ lstm_1 (<span style=\"color: #0087ff; text-decoration-color: #0087ff\">LSTM</span>)             │ [(<span style=\"color: #00d7ff; text-decoration-color: #00d7ff\">None</span>, <span style=\"color: #00d7ff; text-decoration-color: #00d7ff\">None</span>, <span style=\"color: #00af00; text-decoration-color: #00af00\">32</span>),     │          <span style=\"color: #00af00; text-decoration-color: #00af00\">8,320</span> │ embedding[<span style=\"color: #00af00; text-decoration-color: #00af00\">1</span>][<span style=\"color: #00af00; text-decoration-color: #00af00\">0</span>],       │\n",
              "│                           │ (<span style=\"color: #00d7ff; text-decoration-color: #00d7ff\">None</span>, <span style=\"color: #00af00; text-decoration-color: #00af00\">32</span>), (<span style=\"color: #00d7ff; text-decoration-color: #00d7ff\">None</span>,     │                │ lstm[<span style=\"color: #00af00; text-decoration-color: #00af00\">0</span>][<span style=\"color: #00af00; text-decoration-color: #00af00\">1</span>], lstm[<span style=\"color: #00af00; text-decoration-color: #00af00\">0</span>][<span style=\"color: #00af00; text-decoration-color: #00af00\">2</span>] │\n",
              "│                           │ <span style=\"color: #00af00; text-decoration-color: #00af00\">32</span>)]                   │                │                        │\n",
              "├───────────────────────────┼────────────────────────┼────────────────┼────────────────────────┤\n",
              "│ dense (<span style=\"color: #0087ff; text-decoration-color: #0087ff\">Dense</span>)             │ (<span style=\"color: #00d7ff; text-decoration-color: #00d7ff\">None</span>, <span style=\"color: #00d7ff; text-decoration-color: #00d7ff\">None</span>, <span style=\"color: #00af00; text-decoration-color: #00af00\">5000</span>)     │        <span style=\"color: #00af00; text-decoration-color: #00af00\">165,000</span> │ lstm_1[<span style=\"color: #00af00; text-decoration-color: #00af00\">0</span>][<span style=\"color: #00af00; text-decoration-color: #00af00\">0</span>]           │\n",
              "└───────────────────────────┴────────────────────────┴────────────────┴────────────────────────┘\n",
              "</pre>\n"
            ]
          },
          "metadata": {}
        },
        {
          "output_type": "display_data",
          "data": {
            "text/plain": [
              "\u001b[1m Total params: \u001b[0m\u001b[38;5;34m341,640\u001b[0m (1.30 MB)\n"
            ],
            "text/html": [
              "<pre style=\"white-space:pre;overflow-x:auto;line-height:normal;font-family:Menlo,'DejaVu Sans Mono',consolas,'Courier New',monospace\"><span style=\"font-weight: bold\"> Total params: </span><span style=\"color: #00af00; text-decoration-color: #00af00\">341,640</span> (1.30 MB)\n",
              "</pre>\n"
            ]
          },
          "metadata": {}
        },
        {
          "output_type": "display_data",
          "data": {
            "text/plain": [
              "\u001b[1m Trainable params: \u001b[0m\u001b[38;5;34m341,640\u001b[0m (1.30 MB)\n"
            ],
            "text/html": [
              "<pre style=\"white-space:pre;overflow-x:auto;line-height:normal;font-family:Menlo,'DejaVu Sans Mono',consolas,'Courier New',monospace\"><span style=\"font-weight: bold\"> Trainable params: </span><span style=\"color: #00af00; text-decoration-color: #00af00\">341,640</span> (1.30 MB)\n",
              "</pre>\n"
            ]
          },
          "metadata": {}
        },
        {
          "output_type": "display_data",
          "data": {
            "text/plain": [
              "\u001b[1m Non-trainable params: \u001b[0m\u001b[38;5;34m0\u001b[0m (0.00 B)\n"
            ],
            "text/html": [
              "<pre style=\"white-space:pre;overflow-x:auto;line-height:normal;font-family:Menlo,'DejaVu Sans Mono',consolas,'Courier New',monospace\"><span style=\"font-weight: bold\"> Non-trainable params: </span><span style=\"color: #00af00; text-decoration-color: #00af00\">0</span> (0.00 B)\n",
              "</pre>\n"
            ]
          },
          "metadata": {}
        }
      ],
      "source": [
        "from tensorflow.keras.layers import Embedding, LSTM, Dense, Attention, Input, Bidirectional\n",
        "from tensorflow.keras.models import Model\n",
        "\n",
        "# Defining hyperparameters\n",
        "\n",
        "EMBEDDING_DIM = 32\n",
        "LSTM_UNITS = 32\n",
        "\n",
        "# Define the input and output sequences\n",
        "encoder_inputs = Input(shape=(None,))\n",
        "decoder_inputs = Input(shape=(None,))\n",
        "\n",
        "# Define the embedding layer\n",
        "embedding_layer = Embedding(input_dim=VOCAB_SIZE, output_dim=EMBEDDING_DIM)\n",
        "\n",
        "# Define the encoder LSTM layer\n",
        "encoder_lstm = LSTM(units=LSTM_UNITS, return_state=True)\n",
        "\n",
        "# Process the input sequence with the encoder LSTM layer\n",
        "encoder_embeddings = embedding_layer(encoder_inputs)\n",
        "encoder_outputs, state_h, state_c = encoder_lstm(encoder_embeddings)\n",
        "encoder_states = [state_h, state_c]\n",
        "\n",
        "# Define the decoder LSTM layer\n",
        "\n",
        "decoder_lstm = LSTM(units=LSTM_UNITS, return_sequences=True, return_state=True)\n",
        "\n",
        "# Process the output sequence with the decoder LSTM layer\n",
        "decoder_embeddings = embedding_layer(decoder_inputs)\n",
        "decoder_outputs, _, _ = decoder_lstm(decoder_embeddings, initial_state=encoder_states)\n",
        "\n",
        "# Define the output layer\n",
        "output_layer = Dense(units=VOCAB_SIZE, activation='softmax')\n",
        "\n",
        "# Generate the output sequence using the output layer\n",
        "decoder_outputs = output_layer(decoder_outputs)\n",
        "\n",
        "# Create the Model\n",
        "MILO_02 = Model([encoder_inputs, decoder_inputs], decoder_outputs)\n",
        "MILO_02.compile(optimizer='adam', loss='sparse_categorical_crossentropy', metrics=['accuracy'])\n",
        "MILO_02.summary()\n",
        "\n"
      ]
    },
    {
      "cell_type": "markdown",
      "metadata": {
        "id": "yPwMt741d7zK"
      },
      "source": [
        "## Fitting the model"
      ]
    },
    {
      "cell_type": "code",
      "execution_count": null,
      "metadata": {
        "colab": {
          "base_uri": "https://localhost:8080/"
        },
        "id": "InjJFnGz7vDr",
        "outputId": "7d4d7268-0148-43f3-9f43-afbe04c0dfd2"
      },
      "outputs": [
        {
          "data": {
            "text/plain": [
              "((37, 20), (37, 20))"
            ]
          },
          "execution_count": 25,
          "metadata": {},
          "output_type": "execute_result"
        }
      ],
      "source": [
        "X_train.shape, y_train.shape"
      ]
    },
    {
      "cell_type": "code",
      "execution_count": 10,
      "metadata": {
        "colab": {
          "base_uri": "https://localhost:8080/"
        },
        "id": "-s5XonGWID6c",
        "outputId": "f60bc5e5-f2c1-4dd0-f22f-e64a114275f2"
      },
      "outputs": [
        {
          "output_type": "stream",
          "name": "stdout",
          "text": [
            "Epoch 1/17\n",
            "\u001b[1m3/3\u001b[0m \u001b[32m━━━━━━━━━━━━━━━━━━━━\u001b[0m\u001b[37m\u001b[0m \u001b[1m0s\u001b[0m 81ms/step - accuracy: 0.6445 - loss: 5.5687 - val_accuracy: 0.6842 - val_loss: 5.5952\n",
            "Epoch 2/17\n",
            "\u001b[1m3/3\u001b[0m \u001b[32m━━━━━━━━━━━━━━━━━━━━\u001b[0m\u001b[37m\u001b[0m \u001b[1m0s\u001b[0m 65ms/step - accuracy: 0.6523 - loss: 5.3230 - val_accuracy: 0.6842 - val_loss: 5.3826\n",
            "Epoch 3/17\n",
            "\u001b[1m3/3\u001b[0m \u001b[32m━━━━━━━━━━━━━━━━━━━━\u001b[0m\u001b[37m\u001b[0m \u001b[1m0s\u001b[0m 38ms/step - accuracy: 0.6667 - loss: 5.0690 - val_accuracy: 0.6842 - val_loss: 5.1815\n",
            "Epoch 4/17\n",
            "\u001b[1m3/3\u001b[0m \u001b[32m━━━━━━━━━━━━━━━━━━━━\u001b[0m\u001b[37m\u001b[0m \u001b[1m0s\u001b[0m 58ms/step - accuracy: 0.6456 - loss: 4.8830 - val_accuracy: 0.6842 - val_loss: 4.9932\n",
            "Epoch 5/17\n",
            "\u001b[1m3/3\u001b[0m \u001b[32m━━━━━━━━━━━━━━━━━━━━\u001b[0m\u001b[37m\u001b[0m \u001b[1m0s\u001b[0m 39ms/step - accuracy: 0.6484 - loss: 4.6597 - val_accuracy: 0.6842 - val_loss: 4.8161\n",
            "Epoch 6/17\n",
            "\u001b[1m3/3\u001b[0m \u001b[32m━━━━━━━━━━━━━━━━━━━━\u001b[0m\u001b[37m\u001b[0m \u001b[1m0s\u001b[0m 39ms/step - accuracy: 0.6433 - loss: 4.4832 - val_accuracy: 0.6842 - val_loss: 4.6483\n",
            "Epoch 7/17\n",
            "\u001b[1m3/3\u001b[0m \u001b[32m━━━━━━━━━━━━━━━━━━━━\u001b[0m\u001b[37m\u001b[0m \u001b[1m0s\u001b[0m 40ms/step - accuracy: 0.6499 - loss: 4.2927 - val_accuracy: 0.6842 - val_loss: 4.4902\n",
            "Epoch 8/17\n",
            "\u001b[1m3/3\u001b[0m \u001b[32m━━━━━━━━━━━━━━━━━━━━\u001b[0m\u001b[37m\u001b[0m \u001b[1m0s\u001b[0m 39ms/step - accuracy: 0.6460 - loss: 4.1181 - val_accuracy: 0.6842 - val_loss: 4.3415\n",
            "Epoch 9/17\n",
            "\u001b[1m3/3\u001b[0m \u001b[32m━━━━━━━━━━━━━━━━━━━━\u001b[0m\u001b[37m\u001b[0m \u001b[1m0s\u001b[0m 59ms/step - accuracy: 0.6441 - loss: 3.9727 - val_accuracy: 0.6842 - val_loss: 4.2008\n",
            "Epoch 10/17\n",
            "\u001b[1m3/3\u001b[0m \u001b[32m━━━━━━━━━━━━━━━━━━━━\u001b[0m\u001b[37m\u001b[0m \u001b[1m0s\u001b[0m 59ms/step - accuracy: 0.6507 - loss: 3.8048 - val_accuracy: 0.6842 - val_loss: 4.0664\n",
            "Epoch 11/17\n",
            "\u001b[1m3/3\u001b[0m \u001b[32m━━━━━━━━━━━━━━━━━━━━\u001b[0m\u001b[37m\u001b[0m \u001b[1m0s\u001b[0m 59ms/step - accuracy: 0.6320 - loss: 3.6978 - val_accuracy: 0.6842 - val_loss: 3.9382\n",
            "Epoch 12/17\n",
            "\u001b[1m3/3\u001b[0m \u001b[32m━━━━━━━━━━━━━━━━━━━━\u001b[0m\u001b[37m\u001b[0m \u001b[1m0s\u001b[0m 58ms/step - accuracy: 0.6413 - loss: 3.5585 - val_accuracy: 0.6842 - val_loss: 3.8138\n",
            "Epoch 13/17\n",
            "\u001b[1m3/3\u001b[0m \u001b[32m━━━━━━━━━━━━━━━━━━━━\u001b[0m\u001b[37m\u001b[0m \u001b[1m0s\u001b[0m 39ms/step - accuracy: 0.6531 - loss: 3.3962 - val_accuracy: 0.6842 - val_loss: 3.6967\n",
            "Epoch 14/17\n",
            "\u001b[1m3/3\u001b[0m \u001b[32m━━━━━━━━━━━━━━━━━━━━\u001b[0m\u001b[37m\u001b[0m \u001b[1m0s\u001b[0m 44ms/step - accuracy: 0.6417 - loss: 3.2962 - val_accuracy: 0.6842 - val_loss: 3.5870\n",
            "Epoch 15/17\n",
            "\u001b[1m3/3\u001b[0m \u001b[32m━━━━━━━━━━━━━━━━━━━━\u001b[0m\u001b[37m\u001b[0m \u001b[1m0s\u001b[0m 57ms/step - accuracy: 0.6456 - loss: 3.1867 - val_accuracy: 0.6842 - val_loss: 3.4802\n",
            "Epoch 16/17\n",
            "\u001b[1m3/3\u001b[0m \u001b[32m━━━━━━━━━━━━━━━━━━━━\u001b[0m\u001b[37m\u001b[0m \u001b[1m0s\u001b[0m 41ms/step - accuracy: 0.6531 - loss: 3.0563 - val_accuracy: 0.6842 - val_loss: 3.3787\n",
            "Epoch 17/17\n",
            "\u001b[1m3/3\u001b[0m \u001b[32m━━━━━━━━━━━━━━━━━━━━\u001b[0m\u001b[37m\u001b[0m \u001b[1m0s\u001b[0m 38ms/step - accuracy: 0.6488 - loss: 2.9637 - val_accuracy: 0.6842 - val_loss: 3.2842\n"
          ]
        }
      ],
      "source": [
        "EPOCHS = 17\n",
        "BATCH_SIZE = 16\n",
        "\n",
        "history = MILO_02.fit(\n",
        "    [X_train, y_train],\n",
        "    y_train,\n",
        "    validation_data=([X_test, y_test[:, :-1]], y_test[:, 1:]),\n",
        "    batch_size=BATCH_SIZE,\n",
        "    epochs=EPOCHS\n",
        ")"
      ]
    },
    {
      "cell_type": "code",
      "execution_count": 11,
      "metadata": {
        "colab": {
          "base_uri": "https://localhost:8080/",
          "height": 449
        },
        "id": "PQ-FCbRDInhB",
        "outputId": "c412df8b-3837-4983-b22a-082a6fd2f574"
      },
      "outputs": [
        {
          "output_type": "display_data",
          "data": {
            "text/plain": [
              "<Figure size 640x480 with 1 Axes>"
            ],
            "image/png": "[encoded data removed]"
          },
          "metadata": {}
        }
      ],
      "source": [
        "from matplotlib import pyplot as plt\n",
        "import pandas as pd\n",
        "pd.DataFrame(history.history).plot()\n",
        "plt.ylabel('Loss')\n",
        "plt.xlabel('Epochs')\n",
        "plt.show()"
      ]
    },
    {
      "cell_type": "code",
      "execution_count": 15,
      "metadata": {
        "id": "Bo3wyMvQPujg",
        "colab": {
          "base_uri": "https://localhost:8080/"
        },
        "outputId": "432c4795-7958-4553-d716-38fef2a4c6a3"
      },
      "outputs": [
        {
          "output_type": "stream",
          "name": "stderr",
          "text": [
            "WARNING:absl:You are saving your model as an HDF5 file via `model.save()` or `keras.saving.save_model(model)`. This file format is considered legacy. We recommend using instead the native Keras format, e.g. `model.save('my_model.keras')` or `keras.saving.save_model(model, 'my_model.keras')`. \n"
          ]
        }
      ],
      "source": [
        "MILO_02.save(\"MILO_02.h5\")"
      ]
    },
    {
      "cell_type": "code",
      "execution_count": 17,
      "metadata": {
        "colab": {
          "base_uri": "https://localhost:8080/"
        },
        "id": "XE44JDu2P2Cc",
        "outputId": "fb18c9e8-04b2-4c52-9efb-6e864b298fa7"
      },
      "outputs": [
        {
          "output_type": "stream",
          "name": "stderr",
          "text": [
            "WARNING:absl:Compiled the loaded model, but the compiled metrics have yet to be built. `model.compile_metrics` will be empty until you train or evaluate the model.\n"
          ]
        }
      ],
      "source": [
        "from tensorflow.keras.models import load_model\n",
        "\n",
        "# Load the trained model\n",
        "MILO_02 = load_model(\"MILO_02.h5\")\n"
      ]
    },
    {
      "cell_type": "markdown",
      "metadata": {
        "id": "7nLypl9OBrUB"
      },
      "source": [
        "## Making predictions"
      ]
    },
    {
      "cell_type": "code",
      "execution_count": 18,
      "metadata": {
        "id": "VrIXDfiqJzvF"
      },
      "outputs": [],
      "source": [
        "import numpy as np\n",
        "from tensorflow.keras.preprocessing.sequence import pad_sequences\n",
        "\n",
        "def predict_intent(user_input, tokenizer, model, label_encoder, max_sequence_length=MAX_sequence_length):\n",
        "    \"\"\"\n",
        "    Predicts the intent of the user's input.\n",
        "    \"\"\"\n",
        "    # Convert the user's input into a sequence of tokens\n",
        "    user_input_seq = tokenizer.texts_to_sequences([user_input])\n",
        "\n",
        "    # Pad the sequence to ensure it matches the expected input length for the model\n",
        "    user_input_seq = pad_sequences(user_input_seq, maxlen=max_sequence_length, padding='post', truncating='post')\n",
        "\n",
        "    # Create a dummy input for the decoder (all zeros)\n",
        "    dummy_decoder_input = np.zeros((1, max_sequence_length), dtype=np.int32)\n",
        "\n",
        "    # Get the model's prediction (output logits)\n",
        "    # Pass both the encoder input and the dummy decoder input\n",
        "    pred = model.predict([user_input_seq, dummy_decoder_input])\n",
        "\n",
        "    # Convert the prediction into an index of the tag\n",
        "    # pred_index = np.argmax(pred, axis=1) # Original line causing the error\n",
        "    # Extract the index of the maximum probability for the first (and only) timestep\n",
        "    # Then, flatten the result to a 1D array\n",
        "    pred_index = np.argmax(pred[0][0])\n",
        "    pred_index = np.array([pred_index]) # Convert to a 1D array\n",
        "\n",
        "\n",
        "    # Decode the tag index to get the tag\n",
        "    predicted_tag = label_encoder.inverse_transform(pred_index)\n",
        "\n",
        "    return predicted_tag[0]\n",
        "\n",
        "def generate_response(predicted_tag, intents):\n",
        "    \"\"\"\n",
        "    Generate a response based on the predicted intent tag.\n",
        "    \"\"\"\n",
        "    # Loop through all intents and find the matching tag\n",
        "    for intent in intents:\n",
        "        if intent['tag'] == predicted_tag:\n",
        "            # Choose a random response from the list of responses for that tag\n",
        "            response = np.random.choice(intent['responses'])\n",
        "            return response\n",
        "    return \"Îmi pare rău, nu am înțeles. Poți reformula?\""
      ]
    },
    {
      "cell_type": "code",
      "execution_count": 20,
      "metadata": {
        "id": "hgEmoH2sOvs0",
        "colab": {
          "base_uri": "https://localhost:8080/"
        },
        "outputId": "c68f8750-ad52-48f7-cb50-3aab28602b46"
      },
      "outputs": [
        {
          "name": "stdout",
          "output_type": "stream",
          "text": [
            "You: Salut!\n",
            "\u001b[1m1/1\u001b[0m \u001b[32m━━━━━━━━━━━━━━━━━━━━\u001b[0m\u001b[37m\u001b[0m \u001b[1m0s\u001b[0m 33ms/step\n",
            "Predicted Tag: advice\n",
            "\n",
            "MILO_02: Consistența și învățarea din eșecuri sunt cheia succesului! \n",
            "\n",
            "You: ciao\n",
            "\u001b[1m1/1\u001b[0m \u001b[32m━━━━━━━━━━━━━━━━━━━━\u001b[0m\u001b[37m\u001b[0m \u001b[1m0s\u001b[0m 31ms/step\n",
            "Predicted Tag: advice\n",
            "\n",
            "MILO_02: Consistența și învățarea din eșecuri sunt cheia succesului! \n",
            "\n",
            "You: ce faci?\n",
            "\u001b[1m1/1\u001b[0m \u001b[32m━━━━━━━━━━━━━━━━━━━━\u001b[0m\u001b[37m\u001b[0m \u001b[1m0s\u001b[0m 31ms/step\n",
            "Predicted Tag: advice\n",
            "\n",
            "MILO_02: Începe cu pași mici și rămâi constant! \n",
            "\n",
            "You: exit\n"
          ]
        }
      ],
      "source": [
        "intents = data['intents']\n",
        "\n",
        "while True:\n",
        "    user_input = input(\"You: \")\n",
        "    if user_input.lower() == 'exit':\n",
        "        break\n",
        "    predicted_tag = predict_intent(user_input, tokenizer, MILO_02, label_encoder)\n",
        "    response = generate_response(predicted_tag, intents)\n",
        "    print(f\"Predicted Tag: {predicted_tag}\")\n",
        "    print(\"\\nMILO_02:\", response, \"\\n\")"
      ]
    }
  ],
  "metadata": {
    "accelerator": "GPU",
    "colab": {
      "gpuType": "T4",
      "provenance": [],
      "mount_file_id": "1HlH4jtt_Qz5CNFVyLx5s0heov3Bu5uA7",
      "authorship_tag": "ABX9TyMBIRiANw1+ZqhstP1zxugA",
      "include_colab_link": true
    },
    "kernelspec": {
      "display_name": "Python 3",
      "name": "python3"
    },
    "language_info": {
      "name": "python"
    }
  },
  "nbformat": 4,
  "nbformat_minor": 0
}